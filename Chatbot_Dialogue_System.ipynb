{
  "nbformat": 4,
  "nbformat_minor": 0,
  "metadata": {
    "colab": {
      "provenance": []
    },
    "kernelspec": {
      "name": "python3",
      "display_name": "Python 3"
    },
    "language_info": {
      "name": "python"
    }
  },
  "cells": [
    {
      "cell_type": "code",
      "execution_count": 12,
      "metadata": {
        "colab": {
          "base_uri": "https://localhost:8080/"
        },
        "id": "zCMvAZ8JJza9",
        "outputId": "da1922ed-291f-4489-88c8-791e90ed442e"
      },
      "outputs": [
        {
          "output_type": "stream",
          "name": "stdout",
          "text": [
            "Requirement already satisfied: pandas in /usr/local/lib/python3.11/dist-packages (2.2.2)\n",
            "Requirement already satisfied: numpy in /usr/local/lib/python3.11/dist-packages (1.26.4)\n",
            "Requirement already satisfied: nltk in /usr/local/lib/python3.11/dist-packages (3.9.1)\n",
            "Collecting sklearn\n",
            "  Using cached sklearn-0.0.post12.tar.gz (2.6 kB)\n",
            "  \u001b[1;31merror\u001b[0m: \u001b[1msubprocess-exited-with-error\u001b[0m\n",
            "  \n",
            "  \u001b[31m×\u001b[0m \u001b[32mpython setup.py egg_info\u001b[0m did not run successfully.\n",
            "  \u001b[31m│\u001b[0m exit code: \u001b[1;36m1\u001b[0m\n",
            "  \u001b[31m╰─>\u001b[0m See above for output.\n",
            "  \n",
            "  \u001b[1;35mnote\u001b[0m: This error originates from a subprocess, and is likely not a problem with pip.\n",
            "  Preparing metadata (setup.py) ... \u001b[?25l\u001b[?25herror\n",
            "\u001b[1;31merror\u001b[0m: \u001b[1mmetadata-generation-failed\u001b[0m\n",
            "\n",
            "\u001b[31m×\u001b[0m Encountered error while generating package metadata.\n",
            "\u001b[31m╰─>\u001b[0m See above for output.\n",
            "\n",
            "\u001b[1;35mnote\u001b[0m: This is an issue with the package mentioned above, not pip.\n",
            "\u001b[1;36mhint\u001b[0m: See above for details.\n"
          ]
        }
      ],
      "source": [
        "!pip install pandas numpy nltk sklearn flask"
      ]
    },
    {
      "cell_type": "code",
      "source": [
        "import pandas as pd\n",
        "\n",
        "df = pd.read_csv(\"/content/drive/MyDrive/SEM6/Chatbot_Dialogue_System/Hotel Reservations.csv\")\n",
        "\n",
        "print(df.head())"
      ],
      "metadata": {
        "colab": {
          "base_uri": "https://localhost:8080/"
        },
        "id": "Qxrv1xHiJ92X",
        "outputId": "ae509089-434a-4a13-d5fc-e9b18a84b5a0"
      },
      "execution_count": 2,
      "outputs": [
        {
          "output_type": "stream",
          "name": "stdout",
          "text": [
            "  Booking_ID  no_of_adults  no_of_children  no_of_weekend_nights  \\\n",
            "0   INN00001             2               0                     1   \n",
            "1   INN00002             2               0                     2   \n",
            "2   INN00003             1               0                     2   \n",
            "3   INN00004             2               0                     0   \n",
            "4   INN00005             2               0                     1   \n",
            "\n",
            "   no_of_week_nights type_of_meal_plan  required_car_parking_space  \\\n",
            "0                  2       Meal Plan 1                           0   \n",
            "1                  3      Not Selected                           0   \n",
            "2                  1       Meal Plan 1                           0   \n",
            "3                  2       Meal Plan 1                           0   \n",
            "4                  1      Not Selected                           0   \n",
            "\n",
            "  room_type_reserved  lead_time  arrival_year  arrival_month  arrival_date  \\\n",
            "0        Room_Type 1        224          2017             10             2   \n",
            "1        Room_Type 1          5          2018             11             6   \n",
            "2        Room_Type 1          1          2018              2            28   \n",
            "3        Room_Type 1        211          2018              5            20   \n",
            "4        Room_Type 1         48          2018              4            11   \n",
            "\n",
            "  market_segment_type  repeated_guest  no_of_previous_cancellations  \\\n",
            "0             Offline               0                             0   \n",
            "1              Online               0                             0   \n",
            "2              Online               0                             0   \n",
            "3              Online               0                             0   \n",
            "4              Online               0                             0   \n",
            "\n",
            "   no_of_previous_bookings_not_canceled  avg_price_per_room  \\\n",
            "0                                     0               65.00   \n",
            "1                                     0              106.68   \n",
            "2                                     0               60.00   \n",
            "3                                     0              100.00   \n",
            "4                                     0               94.50   \n",
            "\n",
            "   no_of_special_requests booking_status  \n",
            "0                       0   Not_Canceled  \n",
            "1                       1   Not_Canceled  \n",
            "2                       0       Canceled  \n",
            "3                       0       Canceled  \n",
            "4                       0       Canceled  \n"
          ]
        }
      ]
    },
    {
      "cell_type": "code",
      "source": [
        "print(df.isnull().sum())"
      ],
      "metadata": {
        "colab": {
          "base_uri": "https://localhost:8080/"
        },
        "id": "uqH9WpjsJ9sy",
        "outputId": "4b2035d6-3ce0-40d4-a9dd-a9929578f58b"
      },
      "execution_count": 3,
      "outputs": [
        {
          "output_type": "stream",
          "name": "stdout",
          "text": [
            "Booking_ID                              0\n",
            "no_of_adults                            0\n",
            "no_of_children                          0\n",
            "no_of_weekend_nights                    0\n",
            "no_of_week_nights                       0\n",
            "type_of_meal_plan                       0\n",
            "required_car_parking_space              0\n",
            "room_type_reserved                      0\n",
            "lead_time                               0\n",
            "arrival_year                            0\n",
            "arrival_month                           0\n",
            "arrival_date                            0\n",
            "market_segment_type                     0\n",
            "repeated_guest                          0\n",
            "no_of_previous_cancellations            0\n",
            "no_of_previous_bookings_not_canceled    0\n",
            "avg_price_per_room                      0\n",
            "no_of_special_requests                  0\n",
            "booking_status                          0\n",
            "dtype: int64\n"
          ]
        }
      ]
    },
    {
      "cell_type": "code",
      "source": [
        "print(df.info())"
      ],
      "metadata": {
        "colab": {
          "base_uri": "https://localhost:8080/"
        },
        "id": "WrbXsMfaJ9lK",
        "outputId": "d2c47f71-a1ff-460d-a9f9-403f2e284719"
      },
      "execution_count": 4,
      "outputs": [
        {
          "output_type": "stream",
          "name": "stdout",
          "text": [
            "<class 'pandas.core.frame.DataFrame'>\n",
            "RangeIndex: 36275 entries, 0 to 36274\n",
            "Data columns (total 19 columns):\n",
            " #   Column                                Non-Null Count  Dtype  \n",
            "---  ------                                --------------  -----  \n",
            " 0   Booking_ID                            36275 non-null  object \n",
            " 1   no_of_adults                          36275 non-null  int64  \n",
            " 2   no_of_children                        36275 non-null  int64  \n",
            " 3   no_of_weekend_nights                  36275 non-null  int64  \n",
            " 4   no_of_week_nights                     36275 non-null  int64  \n",
            " 5   type_of_meal_plan                     36275 non-null  object \n",
            " 6   required_car_parking_space            36275 non-null  int64  \n",
            " 7   room_type_reserved                    36275 non-null  object \n",
            " 8   lead_time                             36275 non-null  int64  \n",
            " 9   arrival_year                          36275 non-null  int64  \n",
            " 10  arrival_month                         36275 non-null  int64  \n",
            " 11  arrival_date                          36275 non-null  int64  \n",
            " 12  market_segment_type                   36275 non-null  object \n",
            " 13  repeated_guest                        36275 non-null  int64  \n",
            " 14  no_of_previous_cancellations          36275 non-null  int64  \n",
            " 15  no_of_previous_bookings_not_canceled  36275 non-null  int64  \n",
            " 16  avg_price_per_room                    36275 non-null  float64\n",
            " 17  no_of_special_requests                36275 non-null  int64  \n",
            " 18  booking_status                        36275 non-null  object \n",
            "dtypes: float64(1), int64(13), object(5)\n",
            "memory usage: 5.3+ MB\n",
            "None\n"
          ]
        }
      ]
    },
    {
      "cell_type": "code",
      "source": [
        "from sklearn.preprocessing import LabelEncoder\n",
        "\n",
        "label_encoders = {}\n",
        "categorical_cols = ['type_of_meal_plan', 'room_type_reserved', 'market_segment_type']\n",
        "\n",
        "for col in categorical_cols:\n",
        "    le = LabelEncoder()\n",
        "    df[col] = le.fit_transform(df[col])\n",
        "    label_encoders[col] = le\n",
        "\n",
        "df['booking_status'] = df['booking_status'].map({'Not_Canceled': 0, 'Canceled': 1})\n",
        "\n",
        "print(df.head())\n"
      ],
      "metadata": {
        "colab": {
          "base_uri": "https://localhost:8080/"
        },
        "id": "LU6WzIlcJ9ab",
        "outputId": "7c76a929-ae19-4b70-f272-d4267fb5be65"
      },
      "execution_count": 5,
      "outputs": [
        {
          "output_type": "stream",
          "name": "stdout",
          "text": [
            "  Booking_ID  no_of_adults  no_of_children  no_of_weekend_nights  \\\n",
            "0   INN00001             2               0                     1   \n",
            "1   INN00002             2               0                     2   \n",
            "2   INN00003             1               0                     2   \n",
            "3   INN00004             2               0                     0   \n",
            "4   INN00005             2               0                     1   \n",
            "\n",
            "   no_of_week_nights  type_of_meal_plan  required_car_parking_space  \\\n",
            "0                  2                  0                           0   \n",
            "1                  3                  3                           0   \n",
            "2                  1                  0                           0   \n",
            "3                  2                  0                           0   \n",
            "4                  1                  3                           0   \n",
            "\n",
            "   room_type_reserved  lead_time  arrival_year  arrival_month  arrival_date  \\\n",
            "0                   0        224          2017             10             2   \n",
            "1                   0          5          2018             11             6   \n",
            "2                   0          1          2018              2            28   \n",
            "3                   0        211          2018              5            20   \n",
            "4                   0         48          2018              4            11   \n",
            "\n",
            "   market_segment_type  repeated_guest  no_of_previous_cancellations  \\\n",
            "0                    3               0                             0   \n",
            "1                    4               0                             0   \n",
            "2                    4               0                             0   \n",
            "3                    4               0                             0   \n",
            "4                    4               0                             0   \n",
            "\n",
            "   no_of_previous_bookings_not_canceled  avg_price_per_room  \\\n",
            "0                                     0               65.00   \n",
            "1                                     0              106.68   \n",
            "2                                     0               60.00   \n",
            "3                                     0              100.00   \n",
            "4                                     0               94.50   \n",
            "\n",
            "   no_of_special_requests  booking_status  \n",
            "0                       0               0  \n",
            "1                       1               0  \n",
            "2                       0               1  \n",
            "3                       0               1  \n",
            "4                       0               1  \n"
          ]
        }
      ]
    },
    {
      "cell_type": "code",
      "source": [
        "print(df.dtypes)"
      ],
      "metadata": {
        "colab": {
          "base_uri": "https://localhost:8080/"
        },
        "id": "qXDgx0VILWIQ",
        "outputId": "a6db5ced-956e-492c-b05f-991d7597a4fe"
      },
      "execution_count": 7,
      "outputs": [
        {
          "output_type": "stream",
          "name": "stdout",
          "text": [
            "Booking_ID                               object\n",
            "no_of_adults                              int64\n",
            "no_of_children                            int64\n",
            "no_of_weekend_nights                      int64\n",
            "no_of_week_nights                         int64\n",
            "type_of_meal_plan                         int64\n",
            "required_car_parking_space                int64\n",
            "room_type_reserved                        int64\n",
            "lead_time                                 int64\n",
            "arrival_year                              int64\n",
            "arrival_month                             int64\n",
            "arrival_date                              int64\n",
            "market_segment_type                       int64\n",
            "repeated_guest                            int64\n",
            "no_of_previous_cancellations              int64\n",
            "no_of_previous_bookings_not_canceled      int64\n",
            "avg_price_per_room                      float64\n",
            "no_of_special_requests                    int64\n",
            "booking_status                            int64\n",
            "dtype: object\n"
          ]
        }
      ]
    },
    {
      "cell_type": "code",
      "source": [
        "df = df.drop(columns=['Booking_ID'], errors='ignore')"
      ],
      "metadata": {
        "id": "JsRU3KZULbDi"
      },
      "execution_count": 8,
      "outputs": []
    },
    {
      "cell_type": "code",
      "source": [
        "from sklearn.preprocessing import LabelEncoder\n",
        "\n",
        "label_encoders = {}\n",
        "categorical_cols = ['type_of_meal_plan', 'room_type_reserved', 'market_segment_type']\n",
        "\n",
        "for col in categorical_cols:\n",
        "    le = LabelEncoder()\n",
        "    df[col] = le.fit_transform(df[col])\n",
        "    label_encoders[col] = le\n"
      ],
      "metadata": {
        "id": "3CKthI4ILm4_"
      },
      "execution_count": 10,
      "outputs": []
    },
    {
      "cell_type": "code",
      "source": [
        "from sklearn.model_selection import train_test_split\n",
        "from sklearn.ensemble import RandomForestClassifier\n",
        "from sklearn.metrics import accuracy_score\n",
        "\n",
        "# Selecting features and target\n",
        "X = df.drop(columns=['booking_status'])\n",
        "y = df['booking_status']\n",
        "\n",
        "# Train-test split\n",
        "X_train, X_test, y_train, y_test = train_test_split(X, y, test_size=0.2, random_state=42)\n",
        "\n",
        "# Train the model\n",
        "model = RandomForestClassifier(n_estimators=100, random_state=42)\n",
        "model.fit(X_train, y_train)\n",
        "\n",
        "# Make predictions\n",
        "y_pred = model.predict(X_test)\n",
        "\n",
        "# Print accuracy\n",
        "print(f\"Model Accuracy: {accuracy_score(y_test, y_pred):.2f}\")\n"
      ],
      "metadata": {
        "colab": {
          "base_uri": "https://localhost:8080/"
        },
        "id": "Znohl1Q4LpaT",
        "outputId": "822d3091-4135-4f51-f7e1-251fcbb1de43"
      },
      "execution_count": 11,
      "outputs": [
        {
          "output_type": "stream",
          "name": "stdout",
          "text": [
            "Model Accuracy: 0.91\n"
          ]
        }
      ]
    },
    {
      "cell_type": "code",
      "source": [
        "!pip install flask flask-ngrok joblib"
      ],
      "metadata": {
        "colab": {
          "base_uri": "https://localhost:8080/"
        },
        "id": "n03f5tnCOs3N",
        "outputId": "884cd33e-efd3-467f-fd55-3c9d496f4409"
      },
      "execution_count": 13,
      "outputs": [
        {
          "output_type": "stream",
          "name": "stdout",
          "text": [
            "Requirement already satisfied: flask in /usr/local/lib/python3.11/dist-packages (3.1.0)\n",
            "Collecting flask-ngrok\n",
            "  Downloading flask_ngrok-0.0.25-py3-none-any.whl.metadata (1.8 kB)\n",
            "Requirement already satisfied: joblib in /usr/local/lib/python3.11/dist-packages (1.4.2)\n",
            "Requirement already satisfied: Werkzeug>=3.1 in /usr/local/lib/python3.11/dist-packages (from flask) (3.1.3)\n",
            "Requirement already satisfied: Jinja2>=3.1.2 in /usr/local/lib/python3.11/dist-packages (from flask) (3.1.6)\n",
            "Requirement already satisfied: itsdangerous>=2.2 in /usr/local/lib/python3.11/dist-packages (from flask) (2.2.0)\n",
            "Requirement already satisfied: click>=8.1.3 in /usr/local/lib/python3.11/dist-packages (from flask) (8.1.8)\n",
            "Requirement already satisfied: blinker>=1.9 in /usr/local/lib/python3.11/dist-packages (from flask) (1.9.0)\n",
            "Requirement already satisfied: requests in /usr/local/lib/python3.11/dist-packages (from flask-ngrok) (2.32.3)\n",
            "Requirement already satisfied: MarkupSafe>=2.0 in /usr/local/lib/python3.11/dist-packages (from Jinja2>=3.1.2->flask) (3.0.2)\n",
            "Requirement already satisfied: charset-normalizer<4,>=2 in /usr/local/lib/python3.11/dist-packages (from requests->flask-ngrok) (3.4.1)\n",
            "Requirement already satisfied: idna<4,>=2.5 in /usr/local/lib/python3.11/dist-packages (from requests->flask-ngrok) (3.10)\n",
            "Requirement already satisfied: urllib3<3,>=1.21.1 in /usr/local/lib/python3.11/dist-packages (from requests->flask-ngrok) (2.3.0)\n",
            "Requirement already satisfied: certifi>=2017.4.17 in /usr/local/lib/python3.11/dist-packages (from requests->flask-ngrok) (2025.1.31)\n",
            "Downloading flask_ngrok-0.0.25-py3-none-any.whl (3.1 kB)\n",
            "Installing collected packages: flask-ngrok\n",
            "Successfully installed flask-ngrok-0.0.25\n"
          ]
        }
      ]
    },
    {
      "cell_type": "code",
      "source": [
        "import pandas as pd\n",
        "import joblib\n",
        "from sklearn.model_selection import train_test_split\n",
        "from sklearn.ensemble import RandomForestClassifier\n",
        "from sklearn.preprocessing import LabelEncoder\n",
        "\n",
        "# Load dataset\n",
        "df = pd.read_csv(\"/content/drive/MyDrive/SEM6/Chatbot_Dialogue_System/Hotel Reservations.csv\")\n",
        "\n",
        "# Drop Booking_ID (since it's just an identifier)\n",
        "df = df.drop(columns=['Booking_ID'], errors='ignore')\n",
        "\n",
        "# Encode categorical columns\n",
        "categorical_cols = ['type_of_meal_plan', 'room_type_reserved', 'market_segment_type']\n",
        "label_encoders = {}\n",
        "\n",
        "for col in categorical_cols:\n",
        "    le = LabelEncoder()\n",
        "    df[col] = le.fit_transform(df[col])\n",
        "    label_encoders[col] = le  # Store encoders for later use\n",
        "\n",
        "# Convert target variable (0: Not Canceled, 1: Canceled)\n",
        "df['booking_status'] = df['booking_status'].map({'Not_Canceled': 0, 'Canceled': 1})\n",
        "\n",
        "# Split dataset\n",
        "X = df.drop(columns=['booking_status'])\n",
        "y = df['booking_status']\n",
        "\n",
        "X_train, X_test, y_train, y_test = train_test_split(X, y, test_size=0.2, random_state=42)\n",
        "\n",
        "# Train model\n",
        "model = RandomForestClassifier(n_estimators=100, random_state=42)\n",
        "model.fit(X_train, y_train)\n",
        "\n",
        "# Save the model and encoders\n",
        "joblib.dump(model, \"hotel_booking_model.pkl\")\n",
        "joblib.dump(label_encoders, \"label_encoders.pkl\")\n",
        "\n",
        "print(\"Model saved successfully!\")\n"
      ],
      "metadata": {
        "colab": {
          "base_uri": "https://localhost:8080/"
        },
        "id": "YgCgsfawOw9m",
        "outputId": "338e33b9-2430-4bff-c15d-a1d2b0e49233"
      },
      "execution_count": 17,
      "outputs": [
        {
          "output_type": "stream",
          "name": "stdout",
          "text": [
            "Model saved successfully!\n"
          ]
        }
      ]
    },
    {
      "cell_type": "code",
      "source": [
        "from google.colab import files\n",
        "\n",
        "files.download(\"hotel_booking_model.pkl\")\n",
        "files.download(\"label_encoders.pkl\")\n"
      ],
      "metadata": {
        "colab": {
          "base_uri": "https://localhost:8080/",
          "height": 17
        },
        "id": "KlZV_E-5PKLP",
        "outputId": "1f4c3fb9-2886-42e5-87b3-d1b930431205"
      },
      "execution_count": 18,
      "outputs": [
        {
          "output_type": "display_data",
          "data": {
            "text/plain": [
              "<IPython.core.display.Javascript object>"
            ],
            "application/javascript": [
              "\n",
              "    async function download(id, filename, size) {\n",
              "      if (!google.colab.kernel.accessAllowed) {\n",
              "        return;\n",
              "      }\n",
              "      const div = document.createElement('div');\n",
              "      const label = document.createElement('label');\n",
              "      label.textContent = `Downloading \"${filename}\": `;\n",
              "      div.appendChild(label);\n",
              "      const progress = document.createElement('progress');\n",
              "      progress.max = size;\n",
              "      div.appendChild(progress);\n",
              "      document.body.appendChild(div);\n",
              "\n",
              "      const buffers = [];\n",
              "      let downloaded = 0;\n",
              "\n",
              "      const channel = await google.colab.kernel.comms.open(id);\n",
              "      // Send a message to notify the kernel that we're ready.\n",
              "      channel.send({})\n",
              "\n",
              "      for await (const message of channel.messages) {\n",
              "        // Send a message to notify the kernel that we're ready.\n",
              "        channel.send({})\n",
              "        if (message.buffers) {\n",
              "          for (const buffer of message.buffers) {\n",
              "            buffers.push(buffer);\n",
              "            downloaded += buffer.byteLength;\n",
              "            progress.value = downloaded;\n",
              "          }\n",
              "        }\n",
              "      }\n",
              "      const blob = new Blob(buffers, {type: 'application/binary'});\n",
              "      const a = document.createElement('a');\n",
              "      a.href = window.URL.createObjectURL(blob);\n",
              "      a.download = filename;\n",
              "      div.appendChild(a);\n",
              "      a.click();\n",
              "      div.remove();\n",
              "    }\n",
              "  "
            ]
          },
          "metadata": {}
        },
        {
          "output_type": "display_data",
          "data": {
            "text/plain": [
              "<IPython.core.display.Javascript object>"
            ],
            "application/javascript": [
              "download(\"download_7fbe5b4a-a3a7-4e7a-a673-a42f7ff83895\", \"hotel_booking_model.pkl\", 57597225)"
            ]
          },
          "metadata": {}
        },
        {
          "output_type": "display_data",
          "data": {
            "text/plain": [
              "<IPython.core.display.Javascript object>"
            ],
            "application/javascript": [
              "\n",
              "    async function download(id, filename, size) {\n",
              "      if (!google.colab.kernel.accessAllowed) {\n",
              "        return;\n",
              "      }\n",
              "      const div = document.createElement('div');\n",
              "      const label = document.createElement('label');\n",
              "      label.textContent = `Downloading \"${filename}\": `;\n",
              "      div.appendChild(label);\n",
              "      const progress = document.createElement('progress');\n",
              "      progress.max = size;\n",
              "      div.appendChild(progress);\n",
              "      document.body.appendChild(div);\n",
              "\n",
              "      const buffers = [];\n",
              "      let downloaded = 0;\n",
              "\n",
              "      const channel = await google.colab.kernel.comms.open(id);\n",
              "      // Send a message to notify the kernel that we're ready.\n",
              "      channel.send({})\n",
              "\n",
              "      for await (const message of channel.messages) {\n",
              "        // Send a message to notify the kernel that we're ready.\n",
              "        channel.send({})\n",
              "        if (message.buffers) {\n",
              "          for (const buffer of message.buffers) {\n",
              "            buffers.push(buffer);\n",
              "            downloaded += buffer.byteLength;\n",
              "            progress.value = downloaded;\n",
              "          }\n",
              "        }\n",
              "      }\n",
              "      const blob = new Blob(buffers, {type: 'application/binary'});\n",
              "      const a = document.createElement('a');\n",
              "      a.href = window.URL.createObjectURL(blob);\n",
              "      a.download = filename;\n",
              "      div.appendChild(a);\n",
              "      a.click();\n",
              "      div.remove();\n",
              "    }\n",
              "  "
            ]
          },
          "metadata": {}
        },
        {
          "output_type": "display_data",
          "data": {
            "text/plain": [
              "<IPython.core.display.Javascript object>"
            ],
            "application/javascript": [
              "download(\"download_51ca0256-5cb9-4cb1-8d7b-56ac17a9b327\", \"label_encoders.pkl\", 1370)"
            ]
          },
          "metadata": {}
        }
      ]
    }
  ]
}